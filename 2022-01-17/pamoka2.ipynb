{
 "cells": [
  {
   "cell_type": "markdown",
   "metadata": {},
   "source": [
    "Šiek tiek terminų.\n",
    "\n",
    "### Apie įvairius narius...\n",
    "\n",
    "*  **Vienanaris** - kelių dauginamųjų sandauga, kai kiekvienas iš jų yra skaičius, kintamasis arba kintamojo laipsnis. Paprastai vienanariu laikomas ir atskiras skaičius arba kintamasis. Pavyzdžiui, $4$, $3a$, $4c^2d$ yra vienanariai. \n",
    "*  Vienanario **raidine dalimi** vadinama ta sandaugos dalis, kurią sudaro tik kintamieji arba jų laipsniai, o **skaitine dalimi** - skaitinis daugiklis, pvz.: vienanario $-4c^2d$ skaitinė dalis yra $-4$, o raidinė dalis yra $c^2d$.\n",
    "* Pagal nutylėjimą skaitinės dalys, lygios $-1$ ir $1$ nerašomos, pvz. nariuose $x^2$ ir $-x^2$\n",
    "* **Panašiaisiais nariais** vadinami vienanariai, turintys vienodą raidinę dalį, pvz. $3x$ ir $-4x$ (bendra raidinė dalis būtų $x$)\n",
    "* **Laisvaisiais nariais** vadinami vienanariai, neturintys raidinės dalies. Iš esmės - paparasti skaičiai be kintamųjų. Pvz. reiškinyje $3x-4$ laisvasis narys yra  $-4$\n",
    "* **Panašiųjų narių sutraukimu** vadinamas procesas, kai sudedamos (atimamos) dviejų ar daugiau narių skaitinės dalys. Tokiu atveju (griežtai!) raidinė dalis išlieka nepakitusi. Pvz.:  $1 + 3x^2 - 7x + 8x - 8x^2 - 1 = -5x^2 + x$\n",
    "* Kartais po sutraukimo gali ir nieko nelikti (t.y. likti tik 0). Pvz. ankstesniame pavyzdyje susiprastino $1$ ir $-1$\n",
    "* Pagal nutylėjimą patogiausia reiškiniuose vienanarius rikiuoti laipsnių mažėjimo tvarka. Pvz. suprastinus tam tikrą rašyti $-4x^2+3x-5$ nei tarkim $3x - 5 - 4x^2$\n",
    "* Vienas šalia kito parašytų vienanarių ,,krūva\", perskirta $-$ ir $+$ ženklais, reiškia vienanarių sumą. Pvz.: rašant $-4x^2+3x-5$ reiktų turėti mintyje, kad tai yra skirtingų vienanarių $-4x^2$, $3x$ ir $-5$ suma.\n",
    "* Tokia vienanarių suma vadinama **daugianariu**. Taigi, $-4x^2+3x-5$ yra daugianaris, tiksliau kvadratinis trinaris.\n",
    "\n",
    "### Apie dydžius\n",
    "* Kas bendro tarp $4x+3x$, $4cm+3cm$, $4\\sqrt[3]{26} + 3\\sqrt[3]{26}$, $\\frac{4}{5}+\\frac{3}{5}$ ir net gi $4(x^2+1) + 3(x^2+1)$?\n",
    "* Dydis - tai savybė, kuriai priskiriamas skaičius pasirenkant matavimo vienetą. Pvz. svoris - tai dydis, kuris apibūdina jėgos savybę, kuria tam tikras kūnas veikia atramą ar pakabą. Visuotinai sutartas svorio matavimo vienetas yra niutonas. Vienas niutonas lygus tokiai jėgai, kuri, veikdama 1 kg masės kūną, suteikia jam 1 m/s² pagreitį. Sudėtinga suvokti, bent bent jau aišku, apie kokią savybę kalbėsime.\n",
    "* 100N svoriui priskirtas skaičius 100 atitinka svorį (jėgą), kuri yra 10 kartų didesnė už kitą svorį - 10N. Jei ne priskirti skaičiai ,,100\" ir ,,10\", svorių palyginti nebūtų įmanoma.\n",
    "* Sudėti 100N ir 10N yra prasminga. Sudauginti - ne. Kodėl?\n",
    "* Skaičius - tai abstrakcija, su kuria norint manipuliuoti (atlikti veiksmus), dažnai nėra būtina suvokti, kokias savybes jie išreiškia. \n",
    "  * Pvz. 2 + 3 gali reikšti ir plotų sudėtį, ir ledų porcijų sudėtį, bet žinom, kas rezultatas bus 5 nepriklausomai nuo konteksto. \n",
    "  * Pvz. $\\pi$ - sudėtinga abstrakcija, išreiškianti skritulio ilgio ir skersmens santykį.\n",
    "\n",
    "### Kam tai žinoti?\n",
    "\n",
    "* Visą mokyklinę matematiką lydi tekstiniai uždaviniai, kuriuose nuo pat pradinių klasių yra tobulinamas gebėjimas tam tikrus žodžiais išreikštus sąryšius ,,išversti\" į reiškiniais išreikštus sąryšius.\n",
    "* Klaidinga manyti, kad egzamine nereikės sugebėti įvardyti reiškiniais tokių dalykų, kaip *naujos figūros, gautos vieną kvadrato kraštinę padidinus 2, o kitą 5, plotas*.\n",
    "  * Plotas - nuoroda į skaičių dauginimą (dažniausiai dviejų stačiakampio kraštinių)\n",
    "  * Tačiau nieko tokio: yra daug paprastesnių. Tarkime, aš šiandien apsipirkau už $x$ eurų, o rytoj ketinu apsipirkti už **dvigubai daugiau** (viena paprasčiausių nuorodų į kintamojo dauginimą iš 2), tai rytoj ketinu apsipirkti už $2x$ eurų.\n",
    "* Kuo sudėtingesni tekstiniai uždaviniai, tuo sunkiau pastebėti minėtas nuorodas. Reikia gerai nusimanyti ir apie dydžius, ir apie reiškinius.\n",
    "\n",
    "\n",
    "### Greita viso mokyklinio kurso apžvalga\n",
    "* Pradinėse klasėse - aritmetika. Dirbama tik su skaičiais, be kintamųjų\n",
    "* Vidurinėse klasėse - pagrinde daugianarių ir vienanarių algebra. Pagrinde mokomasi, kaip suprastinti reiškinius, kuriuose yra tik kintamieji, vienanariai ir daugianariai.\n",
    "  * 5 klasė: susipažįstama su kintamaisiais ir nežinomaisiais (nežinomieji ir yra kintamieji, tik skiriasi tuo, kad yra keliamas tikslas rasti reikšmes, su kuriomis tam tikros lygybės tampa teisingomis)\n",
    "  * 6 klasė: susipažįstama su trupmenomis, pirmą kartą susipažįstama, kaip atvaizduoti taškus koordinatėse.\n",
    "  * 7 klasė: susipažįstama su neigiamais skaičiais, pratinamasi prie įv. vienanarių ir daugianarių operacijų\n",
    "  * 8 klasė iškrinta iš konteksto. Pradedama dirbti su šaknimis ir laipsniais, sprendžiamos nepilnos kvadratinės lygtys, susipažįstama su funkcijomis, t.y. koordinatėse vaizduojami ne tik taškai, bet ir linijos, atitinkančios reiškinių reikšmes.\n",
    "* Vyresnėse klasėse šalia elementarios algebros (lygčių, nelygybių, vienanarių, daugianarių, šaknų ir laipsnių) daugiau viskas nagrinėjama funkcijos sąvokos aspektu ($\\log$, $\\sin$, laipsniai su trupmeninais rodikliais, nekvadratinės šaknys, kvadratinės ir tiesinės funkcjos ir t.t.) Šie objektai daug abstraktesni, nei palyginus nesudėtinga $5 - 8$ klasių algebra.\n",
    "\n",
    "### Dabartinė situacija\n",
    "Laiko mažai laiko, tad kol kas vienu metu darysime apšilimą iš 3 temų: funkcijų, nelygybių ir reiškinių sudarymo (iš esmės - tekstinių uždavinių)\n",
    "\n",
    "Galiu taip pat pavaizduoti, kaip atrodo temų pasiskirstymas 2016 metų egzamine pagal skiriamus taškus\n",
    "\n",
    "![](vbe2016_pasiskirstymas.png)"
   ]
  },
  {
   "cell_type": "markdown",
   "metadata": {
    "collapsed": true
   },
   "source": [
    "## Nelygybės\n",
    "### Pavyzdys 1 (Iš [UMSolver](https://universalmathsolver.com/download/))\n",
    "\n",
    "Išspręskite nelygybę $4x - 5 < -3x + 23$"
   ]
  },
  {
   "cell_type": "markdown",
   "metadata": {},
   "source": [
    "**Sprendimas (pusiau verstinis)**\n",
    "\n",
    "Perkeliame narius $-3x$ ir $-5$ į kitą nelygybės pusę keisdami ženklą, taip, kad kiekvienoje nelygybės pusėje atsidurtų panašieji nariai:\n",
    "\n",
    "$\\boxed{4x+ 3x < 23 + 5}$\n",
    "\n",
    "Sutraukiame panašiuosius narius:\n",
    "\n",
    "$\\boxed{7x < 28}$\n",
    "\n",
    "Dalijame abejas puses iš vienanario $7x$ skaitinės dalies $7$. Tai yra teigiamas skaičius, todėl nelygybės ženklas nesikeis:\n",
    "\n",
    "$\\boxed{x < 4}$\n",
    "\n",
    "Done :)"
   ]
  },
  {
   "cell_type": "markdown",
   "metadata": {},
   "source": [
    "### Nelygybių namų darbai\n",
    "\n",
    "### Uždavinių rinkinys 1.\n",
    "Praeitame namų darbe buvo [užduotis](https://github.com/loijord/matematikos_pamokos/blob/804598b216999b51cd8ded3dd4eea92f2cf7a433/programa/Martynas/Martynui.ipynb) pabandyti paspręsti tiesines lygtis. Dabar gali pasispręsti panašius pratimus, tik su nelygybėmis. Pvz. buvo galima pasirinkti:\n",
    "    \n",
    "* $32 = -x$\n",
    "* $-8 = 2x$\n",
    "* $-32 = 9x$\n",
    "* $-6x = 32$\n",
    "* $-6 = x + 5$\n",
    "* $-6 = x - 6$\n",
    "* $x = 2x - 4$\n",
    "* $3x+ 6 = 4x$\n",
    "* $2x+3 = 3x+ 5$\n",
    "* $1 - 4x = 5x - 8$\n",
    "\n",
    "Dabar galima:\n",
    "\n",
    "* $32 \\le -x$\n",
    "* $-8 > 2x$\n",
    "* $-32 > 9x$\n",
    "* $-6x \\ge 32$\n",
    "* $-6 \\le x + 5$\n",
    "* $-6 < x - 6$\n",
    "* $x \\ge 2x - 4$\n",
    "* $3x+ 6 \\le 4x$\n",
    "* $2x+3 \\ge 3x+ 5$\n",
    "* $1 - 4x > 5x - 8$\n",
    "\n",
    "Atsakymus pasitikrinti galima [WolframAlpha](https://www.wolframalpha.com/)\n",
    "\n",
    "### Uždavinių rinkinys 2\n",
    "Nelygybių sprendimas - tai tik dalis gebėjimų, kuriuos priskirčiau **el. matematiniams gebėjimams**.  Šie gebėjimai paprastai per egzaminą būna verti  nuo  3 iki 10 taškų iš 60. Siūlau savo nuožiūra pasibandyti, kurią dalį uždavinių, kur reikia tik šių gebėjimų, gali išspręsti. 6-tame  šio konspekto puslapyje pateikiu 2015, 2016 ir 2017 metų egzaminų pavyzdžius:\n",
    "\n",
    "[https://github.com/loijord/egzanalysis/blob/master/egzanalize_beta.pdf](https://github.com/loijord/egzanalysis/blob/master/egzanalize_beta.pdf)"
   ]
  },
  {
   "cell_type": "markdown",
   "metadata": {},
   "source": [
    "## Funkcijos ir tekstiniai uždaviniai\n",
    "\n",
    "Medžiagą ir namų darbus paruošiu vėliau, lekiu į darbus ;)"
   ]
  }
 ],
 "metadata": {
  "kernelspec": {
   "display_name": "Python 3 (ipykernel)",
   "language": "python",
   "name": "python3"
  },
  "language_info": {
   "codemirror_mode": {
    "name": "ipython",
    "version": 3
   },
   "file_extension": ".py",
   "mimetype": "text/x-python",
   "name": "python",
   "nbconvert_exporter": "python",
   "pygments_lexer": "ipython3",
   "version": "3.9.13"
  }
 },
 "nbformat": 4,
 "nbformat_minor": 1
}
