{
 "cells": [
  {
   "cell_type": "markdown",
   "metadata": {
    "collapsed": true
   },
   "source": [
    "Visa pamoka buvo skirta aiškintis, kaip suprasti funkcijų veikimą. Reikėtų mokėti tuos pačius dalykus atlikti interpretuojant funkciją trimis būdais:\n",
    "\n",
    "* Funkcija, kaip reiškinys\n",
    "* Funkcija, kaip grafikas\n",
    "* Funkcija kaip taisyklė, pagal kurią vieną skaičių (kintamąjį $x$) atitinka kitas skaičius (funkcijos reikšmė $f(x)$, kai kintamasis x kam nors lygus)\n",
    "\n",
    "Dalykai:\n",
    "\n",
    "* Rasti x reikšmes, su kuriomis $f(x)>0$, $f(x)=0$, $f(x)<0$\n",
    "* Rasti funkcijos reikšmę $f(x)$, kai duota $x$ reikšmė\n",
    "* Su kuriais $x$ funkcija $f(x)$ įgyja duotą reikšmę\n",
    "* Patikrinti, ar tam tikras taškas priklauso funkcijos grafikui\n",
    "\n",
    "Kol kas sekasi labai sunkiai, nes trūksta pripratimo, kaip simboliais užrašomus dalykus vaizduoti grafiškai ir atvirkščiai. Taip pat stringa lygčių sprendimas. Tuo tikslu reikėtų ,,atidirbti\" keletą pavyzdžių."
   ]
  },
  {
   "cell_type": "markdown",
   "metadata": {},
   "source": [
    "### Pavyzdys 1.\n",
    "\n",
    "Nubraižyti funkcijos grafiką  $f(x)=x^3-3x$\n",
    "\n",
    "**Sprendimas**\n",
    "\n",
    "Randame pirmus keletą taškų:\n",
    "    \n",
    "|$$x$$|-2|-1|0|1|2|\n",
    "|:---:|:---:|:---:|:---:|:---:|:---:|\n",
    "|$$f(x)$$|-2|2|0|2|-1|\n",
    "\n",
    "Atidedame juos koordinačių plokštumoje ir bandome sujungti:\n",
    "\n",
    "<img src=\"cubfunc1.png\" width=\"200\">\n",
    "\n",
    "Nelabai graži linija, neaišku, kaip eina grafikas. Reikėtų daugiau taškų:\n",
    "\n",
    "|$$x$$|-2|-1.5|-1|-0.5|0|0.5|1|1.5|2|\n",
    "|:---:|:---:|:---:|:---:|:---:|:---:|:---:|:---:|:---:|:---:|\n",
    "|$$f(x)$$|-2|1.125|1.375|2|0|-1.375|-2|-1.125|2|\n",
    "\n",
    "Nubraižome patikslintą brėžinį:\n",
    "\n",
    "<img src=\"cubfunc2.png\" width=\"200\">\n",
    "\n",
    "Pagražiname linijas:\n",
    "\n",
    "<img src=\"cunfunc3.png\" width=\"200\">"
   ]
  },
  {
   "cell_type": "markdown",
   "metadata": {},
   "source": [
    "### Pavyzdys 2.  1 dalis.\n",
    "Duota $f(x) = -x^2+9$. Pateiktame grafike grafiškai pavaizduoti keletą $x$ reikšmių, su kuriomis $f(x)<0$ ir pasakyti, kam lygu $f(x)$ su tomis reikšmėmis.\n",
    "<img src=\"sqfunc.png\" width=\"200\">\n",
    "\n",
    "**Sprendimas.**\n",
    "Buvo galima paimti tokius pavyzdžius, kaip:\n",
    "* Kai $x = -2$, tai $f(x)=-(-2)^2 + 9 = 5$\n",
    "* Kai $x = -1$, tai $f(x)=-(-1)^2 + 9 = 8$\n",
    "* Kai $x = -\\sqrt{6}$, tai $f(x)=-(\\sqrt{6})^2 + 9 = 3$\n",
    "<img src=\"sqfunc_sol.png\" width=\"200\">\n",
    "\n",
    "### Pavyzdys 2.  2 dalis.\n",
    "Remiantis ankstesne pamėginti dalimi pamėginti įvardyti visas tokias $x$ reikšmes su kuriomis $f(x)<0$.\n",
    "\n",
    "**Sprendimas.**\n",
    "Nesunku pastebėti, kad, jei tinka $x=-2$, $x=-1$ ir $\\sqrt{6}$, tai tinka ir visos reikšmės pažymėtame ruože.\n",
    "<img src=\"sqfunc_next.png\" width=\"200\">\n",
    "Atsakymas: $x\\in (-3; 3)$"
   ]
  },
  {
   "cell_type": "markdown",
   "metadata": {},
   "source": [
    "### Pavyzdys 3\n",
    "Išspręsti lygtį $-3x+2=0$\n",
    "\n",
    "**Sprendimas.** Reikia mokėti bendrą tokių lygčių sprendimo būdą:\n",
    "    \n",
    "$\\boxed{ax+b=0} \\Leftrightarrow \\boxed{ax=-b} \\Leftrightarrow \\boxed{x=-\\frac{b}{a}}$\n",
    "\n",
    "Imant skaičius $a=-3$ ir $b=2$ gauname analogišką sprendimą:\n",
    "\n",
    "$\\boxed{-3x+2 = 0} \\Leftrightarrow \\boxed{-3x = -2} \\Leftrightarrow \\boxed{x = \\frac{-2}{-3}} \\Leftrightarrow \\boxed{x = \\frac{2}{3}}$"
   ]
  },
  {
   "cell_type": "markdown",
   "metadata": {},
   "source": [
    "### Pavyzdys 4.\n",
    "\n",
    "Duota funkcija $f(x) = -3x+2$. Su kuriomis $x$ reikšmėmis:\n",
    "   * $f(x) = 0$\n",
    "   * $f(x) > 0$\n",
    "   * $f(x) \\le 0$\n",
    "   \n",
    "**Sprendimas**\n",
    "\n",
    "Rasime, su kuriuo $x$ galioja $f(x) = 0$: $\\boxed{-3x+2 = 0} \\Leftrightarrow \\boxed{-3x = -2} \\Leftrightarrow \\boxed{x = \\frac{2}{3}}$. Turime: \n",
    "   * $f(x) = 0$, kai $x=\\frac{2}{3}$.  \n",
    "   \n",
    "Funkcija yra tiesinė ir grafikas eina mažyn, nes krypties koeficientas -3 yra neigiamas, todėl:\n",
    "   * $f(x) > 0$, kai $x<\\frac{2}{3}$ ir \n",
    "   * $f(x) \\le 0$, kai $x\\ge \\frac{2}{3}$\n",
    "   \n",
    "**Kaip išspręsti pačiam**\n",
    "* Iš pradžių reikia išspręsti lygybės atvejį. Tada pažymėti tašką $x=\\frac{2}{3}$ $Ox$ ašyje\n",
    "* Neigiamos funkcijos reikšmės įgyjamos tada, kai $Ox$ ašyje $x$ yra pasislinkęs į dešinę nuo $x=\\frac{2}{3}$\n",
    "* Neneigiamos funkcijos reikšmės įgyjamos tada, kai $Ox$ ašyje $x$ yra pasislinkęs į kairę nuo $x=\\frac{2}{3}$ ($\\frac{2}{3}$ įsiskaito)\n",
    "\n",
    "Norint išspręsti reikia mokėti dirbti su grafikais:\n",
    "\n",
    "|Atvejis|Simbolinė forma| Grafinė forma|Ką reikia padaryti|Atsakymas|\n",
    "|:---:|:---:|:---:|:---:|:---:|\n",
    "|$$f(x)=0$$|$$-3x+2=0$$|<img src=\"pvz1lygu.png\" width=\"200\">|Išspręsti lygtį $$-3x+2=0$$|$$x=\\frac{2}{3}$$|\n",
    "|$$f(x)>0$$|$$-3x+2>0$$|<img src=\"pvz1more.png\" width=\"200\">|Vadovautis apytiksliu grafiku|$$x<\\frac{2}{3}$$|\n",
    "|$$f(x) \\le 0$$|$$-3x+2 \\le 0$$|<img src=\"pvz1less.png\" width=\"200\">|Vadovautis apytiksliu grafiku|$$x \\ge \\frac{2}{3}$$|\n"
   ]
  },
  {
   "cell_type": "markdown",
   "metadata": {},
   "source": [
    "### Pavyzdys 5.\n",
    "\n",
    "Išspręsti lygtį $\\boxed{-2x+10=9-5x}$\n",
    "\n",
    "**Sprendimas**.\n",
    "\n",
    "Tikslas yra suvesti lygtį į formą $ax=b$ kaip trečiame pavyzdyje. Tam reikės atlikti papildomą dalyką.\n",
    "\n",
    "$-2x$ ir $-5x$ bei $10$ ir $9$ yra panašieji nariai. Juos reikia sukelti į vienodas lygties puses ir suprastinti gautą rezultatą:\n",
    "    \n",
    "$\\boxed{-2x+5x = 9 - 10}$\n",
    "\n",
    "Toliau baigiam kaip įprasta:  \n",
    "$\\boxed{3x = -1}$  \n",
    "$\\boxed{x = -\\frac{1}{3}}$"
   ]
  },
  {
   "cell_type": "markdown",
   "metadata": {},
   "source": [
    "# Namų darbai\n",
    "\n",
    "Pavyzdžiams 1, 2, 3 ir 4 geriau perprasti siūlau pratimus:"
   ]
  },
  {
   "cell_type": "markdown",
   "metadata": {},
   "source": [
    "## Pratimas 1\n",
    "Su kuriomis $x$ reikšmėmis (bent apytiksliai) pirmo pavyzdžio funkcija $f(x)=x^3-3x$ tenkina $f(x)<0$? (galima samprotauti taip, kaip antrame pavyzdyje).\n",
    "\n",
    "## Pratimas 2\n",
    "Nubraižyti funkcijos $f(x) = \\frac{x}{2}$ grafiką ir remiantis brėžiniu nurodyti $x$ reikšmes, su kuriomis:\n",
    "\n",
    "* $x = 0$\n",
    "* $x < 0$\n",
    "* $x \\le 0$\n",
    "\n",
    "## Pratimas 3\n",
    "\n",
    "Nubraižyti funkcijos $f(x) = x^2+2x-3$ grafiką ir remiantis brėžiniu nurodyti $x$ reikšmes, su kuriomis:\n",
    "\n",
    "* $x \\ge 0$\n",
    "* $x = 0$\n",
    "* $x \\le 0$\n",
    "\n",
    "## Pratimas 4\n",
    "\n",
    "Jeigu yra noro / laiko, paskaityti apie [tiesines lygtis](https://github.com/loijord/matematikos_pamokos/blob/804598b216999b51cd8ded3dd4eea92f2cf7a433/programa/Martynas/Martynui.ipynb). Būtų gerai, kad išspręstum bent po dvi pasirinktas tiesines lygtis iš kiekvieno lygio (iš viso 10 lygčių). Atsakymus galima tikrintis puslapyje [WolframAlpha](https://www.wolframalpha.com/)"
   ]
  },
  {
   "cell_type": "code",
   "execution_count": null,
   "metadata": {},
   "outputs": [],
   "source": []
  }
 ],
 "metadata": {
  "kernelspec": {
   "display_name": "Python 3 (ipykernel)",
   "language": "python",
   "name": "python3"
  },
  "language_info": {
   "codemirror_mode": {
    "name": "ipython",
    "version": 3
   },
   "file_extension": ".py",
   "mimetype": "text/x-python",
   "name": "python",
   "nbconvert_exporter": "python",
   "pygments_lexer": "ipython3",
   "version": "3.9.13"
  }
 },
 "nbformat": 4,
 "nbformat_minor": 1
}
